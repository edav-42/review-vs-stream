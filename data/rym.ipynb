{
 "cells": [
  {
   "cell_type": "code",
   "execution_count": 58,
   "metadata": {},
   "outputs": [],
   "source": [
    "import pandas as pd\n",
    "from my_rymscraper.rymscraper import rymscraper, RymUrl\n",
    "network = rymscraper.RymNetwork()"
   ]
  },
  {
   "cell_type": "code",
   "execution_count": 59,
   "metadata": {},
   "outputs": [],
   "source": [
    "mt = pd.read_csv(\"metacritic_data.csv\")"
   ]
  },
  {
   "cell_type": "code",
   "execution_count": 60,
   "metadata": {},
   "outputs": [],
   "source": [
    "# mt['tag'] = mt[\"Singer\"] + \" - \" + mt[\"Album_Name\"];\n",
    "lower_alnum = lambda s: \"\".join(x for x in s.lower() if x.isalnum())\n",
    "mt[\"id\"] = mt[\"Singer\"].apply(lower_alnum) + mt[\"Release_Year\"].apply(str) + mt[\"Album_Name\"].apply(lambda s: lower_alnum(s)[:3] + lower_alnum(s)[-3:])\n",
    "tags = zip(mt[\"id\"], mt[\"Singer\"], mt[\"Album_Name\"])\n",
    "# tags = [\"Common - A Beautiful Revolution, Vol. 2\"]\n",
    "cols = ['Name', 'Artist', 'Released', 'RYM Rating', 'Genres', 'Descriptors',\n",
    "       'Language', 'Track listing', 'Colorscheme', 'Languages']\n",
    "df = pd.DataFrame(columns=cols)"
   ]
  },
  {
   "cell_type": "code",
   "execution_count": 61,
   "metadata": {},
   "outputs": [
    {
     "name": "stdout",
     "output_type": "stream",
     "text": [
      "✅  Tangerine Dream - Raum\n"
     ]
    }
   ],
   "source": [
    "lower_alnum_dash = lambda s: \"\".join(x for x in s.replace(\" \", \"-\").lower() if (x.isalnum() or x == \"-\" ))\n",
    "\n",
    "max_iter = 1 # one iteration is enough for most cases, raise it if errors occur\n",
    "iter = 0\n",
    "while iter < max_iter:\n",
    "  new_tags = []\n",
    "  for uid, singer, album in tags:\n",
    "    try:\n",
    "      # Try url first\n",
    "      url = \"https://rateyourmusic.com/release/album/%s/%s/\" % (lower_alnum_dash(singer), lower_alnum_dash(album))\n",
    "      tag = singer + \" - \" + album\n",
    "      album_infos = network.get_album_infos(url=url)\n",
    "      if not album_infos:\n",
    "        # Try search then\n",
    "        album_infos = network.get_album_infos(name=tag) # get album by search\n",
    "      \n",
    "      if not album_infos:\n",
    "        print(\"❌ \", tag)\n",
    "        new_tags.append((tag,uid))\n",
    "      else:\n",
    "        print(\"✅ \", tag)\n",
    "        album_infos[\"id\"] = uid\n",
    "        df = pd.concat([df, pd.DataFrame([album_infos])], axis=0)\n",
    "    # except IndexError:\n",
    "    except (IndexError, AttributeError):\n",
    "      new_tags.append((tag,uid))\n",
    "      print(\"❌ \", tag)\n",
    "\n",
    "  tags = new_tags\n",
    "  iter += 1"
   ]
  },
  {
   "cell_type": "code",
   "execution_count": 62,
   "metadata": {},
   "outputs": [
    {
     "data": {
      "text/html": [
       "<div>\n",
       "<style scoped>\n",
       "    .dataframe tbody tr th:only-of-type {\n",
       "        vertical-align: middle;\n",
       "    }\n",
       "\n",
       "    .dataframe tbody tr th {\n",
       "        vertical-align: top;\n",
       "    }\n",
       "\n",
       "    .dataframe thead th {\n",
       "        text-align: right;\n",
       "    }\n",
       "</style>\n",
       "<table border=\"1\" class=\"dataframe\">\n",
       "  <thead>\n",
       "    <tr style=\"text-align: right;\">\n",
       "      <th></th>\n",
       "      <th>Name</th>\n",
       "      <th>Artist</th>\n",
       "      <th>Released</th>\n",
       "      <th>RYM Rating</th>\n",
       "      <th>Genres</th>\n",
       "      <th>Descriptors</th>\n",
       "      <th>Language</th>\n",
       "      <th>Track listing</th>\n",
       "      <th>Colorscheme</th>\n",
       "      <th>Languages</th>\n",
       "      <th>Type</th>\n",
       "      <th>Ranked</th>\n",
       "      <th>id</th>\n",
       "    </tr>\n",
       "  </thead>\n",
       "  <tbody>\n",
       "    <tr>\n",
       "      <th>0</th>\n",
       "      <td>Raum</td>\n",
       "      <td>Tangerine Dream</td>\n",
       "      <td>25 February 2022</td>\n",
       "      <td>3.35\\n                  \\n/ 5.00.5\\n\\n        ...</td>\n",
       "      <td>Berlin School\\nIDM, Downtempo, Ambient</td>\n",
       "      <td>atmospheric,  space,  instrumental,  ethereal,...</td>\n",
       "      <td>NaN</td>\n",
       "      <td>[In 256 Zeichen, You’re Always on Time, Along ...</td>\n",
       "      <td>[#84837f, #9a2e14, #ac9084, #5a2b11, #ea7317, ...</td>\n",
       "      <td>NaN</td>\n",
       "      <td>Album</td>\n",
       "      <td>#470 for 2022</td>\n",
       "      <td>tangerinedream2022rauaum</td>\n",
       "    </tr>\n",
       "  </tbody>\n",
       "</table>\n",
       "</div>"
      ],
      "text/plain": [
       "   Name           Artist          Released  \\\n",
       "0  Raum  Tangerine Dream  25 February 2022   \n",
       "\n",
       "                                          RYM Rating  \\\n",
       "0  3.35\\n                  \\n/ 5.00.5\\n\\n        ...   \n",
       "\n",
       "                                   Genres  \\\n",
       "0  Berlin School\\nIDM, Downtempo, Ambient   \n",
       "\n",
       "                                         Descriptors Language  \\\n",
       "0  atmospheric,  space,  instrumental,  ethereal,...      NaN   \n",
       "\n",
       "                                       Track listing  \\\n",
       "0  [In 256 Zeichen, You’re Always on Time, Along ...   \n",
       "\n",
       "                                         Colorscheme Languages   Type  \\\n",
       "0  [#84837f, #9a2e14, #ac9084, #5a2b11, #ea7317, ...       NaN  Album   \n",
       "\n",
       "          Ranked                        id  \n",
       "0  #470 for 2022  tangerinedream2022rauaum  "
      ]
     },
     "execution_count": 62,
     "metadata": {},
     "output_type": "execute_result"
    }
   ],
   "source": [
    "df"
   ]
  },
  {
   "cell_type": "code",
   "execution_count": 63,
   "metadata": {},
   "outputs": [
    {
     "data": {
      "text/html": [
       "<div>\n",
       "<style scoped>\n",
       "    .dataframe tbody tr th:only-of-type {\n",
       "        vertical-align: middle;\n",
       "    }\n",
       "\n",
       "    .dataframe tbody tr th {\n",
       "        vertical-align: top;\n",
       "    }\n",
       "\n",
       "    .dataframe thead th {\n",
       "        text-align: right;\n",
       "    }\n",
       "</style>\n",
       "<table border=\"1\" class=\"dataframe\">\n",
       "  <thead>\n",
       "    <tr style=\"text-align: right;\">\n",
       "      <th></th>\n",
       "      <th>Name</th>\n",
       "      <th>Artist</th>\n",
       "      <th>Released</th>\n",
       "      <th>RYM Rating</th>\n",
       "      <th>Genres</th>\n",
       "      <th>Descriptors</th>\n",
       "      <th>Language</th>\n",
       "      <th>Track listing</th>\n",
       "      <th>Colorscheme</th>\n",
       "      <th>Languages</th>\n",
       "    </tr>\n",
       "  </thead>\n",
       "  <tbody>\n",
       "    <tr>\n",
       "      <th>count</th>\n",
       "      <td>1</td>\n",
       "      <td>1</td>\n",
       "      <td>1</td>\n",
       "      <td>1</td>\n",
       "      <td>1</td>\n",
       "      <td>1</td>\n",
       "      <td>0</td>\n",
       "      <td>1</td>\n",
       "      <td>1</td>\n",
       "      <td>0</td>\n",
       "    </tr>\n",
       "    <tr>\n",
       "      <th>unique</th>\n",
       "      <td>1</td>\n",
       "      <td>1</td>\n",
       "      <td>1</td>\n",
       "      <td>1</td>\n",
       "      <td>1</td>\n",
       "      <td>1</td>\n",
       "      <td>0</td>\n",
       "      <td>1</td>\n",
       "      <td>1</td>\n",
       "      <td>0</td>\n",
       "    </tr>\n",
       "    <tr>\n",
       "      <th>top</th>\n",
       "      <td>Raum</td>\n",
       "      <td>Tangerine Dream</td>\n",
       "      <td>25 February 2022</td>\n",
       "      <td>3.35\\n                  \\n/ 5.00.5\\n\\n        ...</td>\n",
       "      <td>Berlin School\\nIDM, Downtempo, Ambient</td>\n",
       "      <td>atmospheric,  space,  instrumental,  ethereal,...</td>\n",
       "      <td>NaN</td>\n",
       "      <td>[In 256 Zeichen, You’re Always on Time, Along ...</td>\n",
       "      <td>[#84837f, #9a2e14, #ac9084, #5a2b11, #ea7317, ...</td>\n",
       "      <td>NaN</td>\n",
       "    </tr>\n",
       "    <tr>\n",
       "      <th>freq</th>\n",
       "      <td>1</td>\n",
       "      <td>1</td>\n",
       "      <td>1</td>\n",
       "      <td>1</td>\n",
       "      <td>1</td>\n",
       "      <td>1</td>\n",
       "      <td>NaN</td>\n",
       "      <td>1</td>\n",
       "      <td>1</td>\n",
       "      <td>NaN</td>\n",
       "    </tr>\n",
       "  </tbody>\n",
       "</table>\n",
       "</div>"
      ],
      "text/plain": [
       "        Name           Artist          Released  \\\n",
       "count      1                1                 1   \n",
       "unique     1                1                 1   \n",
       "top     Raum  Tangerine Dream  25 February 2022   \n",
       "freq       1                1                 1   \n",
       "\n",
       "                                               RYM Rating  \\\n",
       "count                                                   1   \n",
       "unique                                                  1   \n",
       "top     3.35\\n                  \\n/ 5.00.5\\n\\n        ...   \n",
       "freq                                                    1   \n",
       "\n",
       "                                        Genres  \\\n",
       "count                                        1   \n",
       "unique                                       1   \n",
       "top     Berlin School\\nIDM, Downtempo, Ambient   \n",
       "freq                                         1   \n",
       "\n",
       "                                              Descriptors Language  \\\n",
       "count                                                   1        0   \n",
       "unique                                                  1        0   \n",
       "top     atmospheric,  space,  instrumental,  ethereal,...      NaN   \n",
       "freq                                                    1      NaN   \n",
       "\n",
       "                                            Track listing  \\\n",
       "count                                                   1   \n",
       "unique                                                  1   \n",
       "top     [In 256 Zeichen, You’re Always on Time, Along ...   \n",
       "freq                                                    1   \n",
       "\n",
       "                                              Colorscheme Languages  \n",
       "count                                                   1         0  \n",
       "unique                                                  1         0  \n",
       "top     [#84837f, #9a2e14, #ac9084, #5a2b11, #ea7317, ...       NaN  \n",
       "freq                                                    1       NaN  "
      ]
     },
     "execution_count": 63,
     "metadata": {},
     "output_type": "execute_result"
    }
   ],
   "source": [
    "xdf = df.reset_index()\n",
    "xdf = df[cols]\n",
    "xdf.reset_index()\n",
    "xdf.describe()"
   ]
  },
  {
   "cell_type": "code",
   "execution_count": 64,
   "metadata": {},
   "outputs": [
    {
     "name": "stderr",
     "output_type": "stream",
     "text": [
      "/opt/homebrew/anaconda3/envs/edav/lib/python3.7/site-packages/ipykernel_launcher.py:1: SettingWithCopyWarning: \n",
      "A value is trying to be set on a copy of a slice from a DataFrame.\n",
      "Try using .loc[row_indexer,col_indexer] = value instead\n",
      "\n",
      "See the caveats in the documentation: https://pandas.pydata.org/pandas-docs/stable/user_guide/indexing.html#returning-a-view-versus-a-copy\n",
      "  \"\"\"Entry point for launching an IPython kernel.\n"
     ]
    }
   ],
   "source": [
    "xdf[\"Language\"] = [xdf.iloc[i][\"Languages\"] if pd.isna(xdf.iloc[i][\"Language\"]) else xdf.iloc[i][\"Language\"] for i in range(len(xdf.index))]"
   ]
  },
  {
   "cell_type": "code",
   "execution_count": 65,
   "metadata": {},
   "outputs": [
    {
     "data": {
      "text/html": [
       "<div>\n",
       "<style scoped>\n",
       "    .dataframe tbody tr th:only-of-type {\n",
       "        vertical-align: middle;\n",
       "    }\n",
       "\n",
       "    .dataframe tbody tr th {\n",
       "        vertical-align: top;\n",
       "    }\n",
       "\n",
       "    .dataframe thead th {\n",
       "        text-align: right;\n",
       "    }\n",
       "</style>\n",
       "<table border=\"1\" class=\"dataframe\">\n",
       "  <thead>\n",
       "    <tr style=\"text-align: right;\">\n",
       "      <th></th>\n",
       "      <th>Language</th>\n",
       "    </tr>\n",
       "  </thead>\n",
       "  <tbody>\n",
       "    <tr>\n",
       "      <th>count</th>\n",
       "      <td>0.0</td>\n",
       "    </tr>\n",
       "    <tr>\n",
       "      <th>mean</th>\n",
       "      <td>NaN</td>\n",
       "    </tr>\n",
       "    <tr>\n",
       "      <th>std</th>\n",
       "      <td>NaN</td>\n",
       "    </tr>\n",
       "    <tr>\n",
       "      <th>min</th>\n",
       "      <td>NaN</td>\n",
       "    </tr>\n",
       "    <tr>\n",
       "      <th>25%</th>\n",
       "      <td>NaN</td>\n",
       "    </tr>\n",
       "    <tr>\n",
       "      <th>50%</th>\n",
       "      <td>NaN</td>\n",
       "    </tr>\n",
       "    <tr>\n",
       "      <th>75%</th>\n",
       "      <td>NaN</td>\n",
       "    </tr>\n",
       "    <tr>\n",
       "      <th>max</th>\n",
       "      <td>NaN</td>\n",
       "    </tr>\n",
       "  </tbody>\n",
       "</table>\n",
       "</div>"
      ],
      "text/plain": [
       "       Language\n",
       "count       0.0\n",
       "mean        NaN\n",
       "std         NaN\n",
       "min         NaN\n",
       "25%         NaN\n",
       "50%         NaN\n",
       "75%         NaN\n",
       "max         NaN"
      ]
     },
     "execution_count": 65,
     "metadata": {},
     "output_type": "execute_result"
    }
   ],
   "source": [
    "xdf = xdf[['Name', 'Artist', 'Released', 'RYM Rating', 'Genres', 'Descriptors',\n",
    "       'Language', 'Track listing', 'Colorscheme']]\n",
    "xdf.describe()"
   ]
  },
  {
   "cell_type": "code",
   "execution_count": 66,
   "metadata": {},
   "outputs": [],
   "source": [
    "import re\n",
    "ratings = []\n",
    "num_ratings = []\n",
    "for i in xdf[\"RYM Rating\"]:\n",
    "  if isinstance(i, float):\n",
    "    ratings.append(\"\")\n",
    "    num_ratings.append(\"\")\n",
    "  else:\n",
    "    ratings.append(float(i.rsplit('\\n')[0]))\n",
    "    num_ = i.rsplit('\\n')[-1]\n",
    "    num = int(re.findall(r\"\\d*,*\\d+\",num_)[0].replace(\",\",\"\"))\n",
    "    num_ratings.append(num)"
   ]
  },
  {
   "cell_type": "code",
   "execution_count": 67,
   "metadata": {},
   "outputs": [],
   "source": [
    "xdf[\"RYM Rating\"] = ratings\n",
    "xdf[\"Num_of_RYM_Ratings\"] = num_ratings"
   ]
  },
  {
   "cell_type": "code",
   "execution_count": 68,
   "metadata": {},
   "outputs": [
    {
     "data": {
      "text/html": [
       "<div>\n",
       "<style scoped>\n",
       "    .dataframe tbody tr th:only-of-type {\n",
       "        vertical-align: middle;\n",
       "    }\n",
       "\n",
       "    .dataframe tbody tr th {\n",
       "        vertical-align: top;\n",
       "    }\n",
       "\n",
       "    .dataframe thead th {\n",
       "        text-align: right;\n",
       "    }\n",
       "</style>\n",
       "<table border=\"1\" class=\"dataframe\">\n",
       "  <thead>\n",
       "    <tr style=\"text-align: right;\">\n",
       "      <th></th>\n",
       "      <th>Name</th>\n",
       "      <th>Artist</th>\n",
       "      <th>Released</th>\n",
       "      <th>RYM Rating</th>\n",
       "      <th>Genres</th>\n",
       "      <th>Descriptors</th>\n",
       "      <th>Language</th>\n",
       "      <th>Track listing</th>\n",
       "      <th>Colorscheme</th>\n",
       "      <th>Num_of_RYM_Ratings</th>\n",
       "    </tr>\n",
       "  </thead>\n",
       "  <tbody>\n",
       "    <tr>\n",
       "      <th>0</th>\n",
       "      <td>Raum</td>\n",
       "      <td>Tangerine Dream</td>\n",
       "      <td>25 February 2022</td>\n",
       "      <td>3.35</td>\n",
       "      <td>Berlin School\\nIDM, Downtempo, Ambient</td>\n",
       "      <td>atmospheric,  space,  instrumental,  ethereal,...</td>\n",
       "      <td>NaN</td>\n",
       "      <td>[In 256 Zeichen, You’re Always on Time, Along ...</td>\n",
       "      <td>[#84837f, #9a2e14, #ac9084, #5a2b11, #ea7317, ...</td>\n",
       "      <td>415</td>\n",
       "    </tr>\n",
       "  </tbody>\n",
       "</table>\n",
       "</div>"
      ],
      "text/plain": [
       "   Name           Artist          Released  RYM Rating  \\\n",
       "0  Raum  Tangerine Dream  25 February 2022        3.35   \n",
       "\n",
       "                                   Genres  \\\n",
       "0  Berlin School\\nIDM, Downtempo, Ambient   \n",
       "\n",
       "                                         Descriptors  Language  \\\n",
       "0  atmospheric,  space,  instrumental,  ethereal,...       NaN   \n",
       "\n",
       "                                       Track listing  \\\n",
       "0  [In 256 Zeichen, You’re Always on Time, Along ...   \n",
       "\n",
       "                                         Colorscheme  Num_of_RYM_Ratings  \n",
       "0  [#84837f, #9a2e14, #ac9084, #5a2b11, #ea7317, ...                 415  "
      ]
     },
     "execution_count": 68,
     "metadata": {},
     "output_type": "execute_result"
    }
   ],
   "source": [
    "xdf"
   ]
  },
  {
   "cell_type": "code",
   "execution_count": 69,
   "metadata": {},
   "outputs": [],
   "source": [
    "xdf.to_csv(\"rym_add.csv\")"
   ]
  }
 ],
 "metadata": {
  "kernelspec": {
   "display_name": "edav",
   "language": "python",
   "name": "python3"
  },
  "language_info": {
   "codemirror_mode": {
    "name": "ipython",
    "version": 3
   },
   "file_extension": ".py",
   "mimetype": "text/x-python",
   "name": "python",
   "nbconvert_exporter": "python",
   "pygments_lexer": "ipython3",
   "version": "3.7.15"
  },
  "orig_nbformat": 4,
  "vscode": {
   "interpreter": {
    "hash": "0df9b00d9d230cd9a3bd41555cc6e6dfffa51e74efe856b6a8c4a87056f0c072"
   }
  }
 },
 "nbformat": 4,
 "nbformat_minor": 2
}
