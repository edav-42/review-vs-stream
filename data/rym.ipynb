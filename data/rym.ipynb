{
 "cells": [
  {
   "cell_type": "code",
   "execution_count": 108,
   "metadata": {},
   "outputs": [],
   "source": [
    "import pandas as pd\n",
    "import urllib.parse\n",
    "from random import shuffle\n",
    "from my_rymscraper.rymscraper import rymscraper, RymUrl\n",
    "network = rymscraper.RymNetwork()"
   ]
  },
  {
   "cell_type": "code",
   "execution_count": 109,
   "metadata": {},
   "outputs": [],
   "source": [
    "mt = pd.read_csv(\"metacritic_data.csv\")"
   ]
  },
  {
   "cell_type": "code",
   "execution_count": 110,
   "metadata": {},
   "outputs": [],
   "source": [
    "# mt['tag'] = mt[\"Singer\"] + \" - \" + mt[\"Album_Name\"];\n",
    "lower_alnum = lambda s: \"\".join(x for x in s.lower() if x.isalnum())\n",
    "mt[\"id\"] = mt[\"Singer\"].apply(lower_alnum) + mt[\"Release_Year\"].apply(str) + mt[\"Album_Name\"].apply(lambda s: lower_alnum(s)[:3] + lower_alnum(s)[-3:])\n",
    "tags = list(zip(mt[\"id\"], mt[\"Singer\"], mt[\"Album_Name\"]))\n",
    "# tags = [\"Common - A Beautiful Revolution, Vol. 2\"]\n",
    "cols = ['Id', 'Name', 'Artist', 'Released', 'RYM Rating', 'Genres', 'Descriptors',\n",
    "       'Language', 'Track listing', 'Colorscheme', 'Languages', 'Ranked']\n",
    "df = pd.DataFrame(columns=cols)"
   ]
  },
  {
   "cell_type": "code",
   "execution_count": 112,
   "metadata": {},
   "outputs": [
    {
     "name": "stdout",
     "output_type": "stream",
     "text": [
      "✅  Go - Kart Mozart\n",
      "❌  Steve Reich - Pulse/Quartet\n",
      "✅  µ - Ziq\n",
      "❌  Christina Vantzou - No. 4\n",
      "❌  Coheed and Cambria - Vaxis\n",
      "❌  Beak> - 3 [>>>]\n",
      "❌  Snoh Aalegra - \n",
      "❌  Gil Scott - Heron\n",
      "❌  Daniel Blumberg - On&On\n",
      "❌  Sharon Jones & the Dap - Kings\n",
      "❌  Metallica - S&M2 [Live]\n",
      "❌  Lukas Nelson & Promise of the Real - A Few Stars Apart\n",
      "❌  Ed Sheeran - Equals\n",
      "❌  Bill Callahan - YTILAER\n",
      "❌  ...And You Will Know Us the Trail of Dead - XI: Bleed Here Now\n",
      "❌  Sonic Youth - In/Out/In\n",
      "❌  Marcus Mumford - (self\n"
     ]
    },
    {
     "name": "stderr",
     "output_type": "stream",
     "text": [
      "Rate-limit detected. Restarting browser.\n"
     ]
    },
    {
     "name": "stdout",
     "output_type": "stream",
     "text": [
      "❌  St. Paul & the Broken Bones - The Alien Coast\n"
     ]
    }
   ],
   "source": [
    "lower_alnum_dash = lambda s: \"\".join(x for x in s.replace(\" \", \"-\").lower() if (x.isalnum() or x == \"-\" ))\n",
    "# tags = [('divmo','Maya Hawke', 'MOSS')]\n",
    "\n",
    "max_iter = 1 # one iteration is enough for most cases, raise it if errors occur\n",
    "iter = 0\n",
    "while iter < max_iter:\n",
    "  new_tags = []\n",
    "  for uid, singer, album in tags:\n",
    "    try:\n",
    "      # Try url first\n",
    "      url = \"https://rateyourmusic.com/release/album/%s/%s/\" % (lower_alnum_dash(singer), lower_alnum_dash(album))\n",
    "      tag = singer + \" - \" + album\n",
    "      album_infos = network.get_album_infos(url=url)\n",
    "    except:\n",
    "      album_infos = []\n",
    "    \n",
    "    if not album_infos:\n",
    "      try:\n",
    "        # Try search then\n",
    "        url_tag = urllib.parse.quote(tag)\n",
    "        album_infos = network.get_album_infos(name=url_tag) # get album by search\n",
    "      except IndexError as e:\n",
    "        print(\"❌ \", tag)\n",
    "      \n",
    "    if not album_infos:\n",
    "      new_tags.append((uid, singer, album))\n",
    "    else:\n",
    "      print(\"✅ \", tag)\n",
    "      album_infos[\"Id\"] = uid\n",
    "      df = pd.concat([df, pd.DataFrame([album_infos])], axis=0)\n",
    "    # except IndexError:\n",
    "    # except (IndexError, AttributeError):\n",
    "\n",
    "  tags = new_tags\n",
    "  iter += 1"
   ]
  },
  {
   "cell_type": "code",
   "execution_count": 123,
   "metadata": {},
   "outputs": [],
   "source": [
    "new_tags = [('stevereich2018pultet', 'Steve Reich', 'Pulse/Quartet'),\n",
    " ('christinavantzou2018no4no4', 'Christina Vantzou', 'No. 4'),\n",
    " ('coheedandcambria2018vaxres', 'Coheed and Cambria', 'Vaxis'),\n",
    " ('beak201833', 'Beak>', '3 [>>>]'),\n",
    " ('snohaalegra2019ughain', 'Snoh Aalegra', ''),\n",
    " ('gilscottheron2020werven', 'Gil Scott', 'Heron'),\n",
    " ('danielblumberg2020ononon', 'Daniel Blumberg', 'On&On'),\n",
    " ('sharonjonesthedapkings2020jussin', 'Sharon Jones & the Dap', 'Kings'),\n",
    " ('metallica2020sm2ive', 'Metallica', 'S&M2 [Live]'),\n",
    " ('lukasnelsonpromiseofthereal2021afeart',\n",
    "  'Lukas Nelson & Promise of the Real',\n",
    "  'A Few Stars Apart'),\n",
    " ('edsheeran2021equals', 'Ed Sheeran', 'Equals'),\n",
    " ('billcallahan2022ytiaer', 'Bill Callahan', 'YTILAER'),\n",
    " ('andyouwillknowusthetrailofdead2022xibnow',\n",
    "  '...And You Will Know Us the Trail of Dead',\n",
    "  'XI: Bleed Here Now'),\n",
    " ('sonicyouth2022inotin', 'Sonic Youth', 'In/Out/In'),\n",
    " ('marcusmumford2022selled', 'Marcus Mumford', '(self'),\n",
    " ('stpaulthebrokenbones2022theast', 'St. Paul & the Broken Bones', 'The Alien Coast')]"
   ]
  },
  {
   "cell_type": "code",
   "execution_count": 113,
   "metadata": {},
   "outputs": [
    {
     "data": {
      "text/html": [
       "<div>\n",
       "<style scoped>\n",
       "    .dataframe tbody tr th:only-of-type {\n",
       "        vertical-align: middle;\n",
       "    }\n",
       "\n",
       "    .dataframe tbody tr th {\n",
       "        vertical-align: top;\n",
       "    }\n",
       "\n",
       "    .dataframe thead th {\n",
       "        text-align: right;\n",
       "    }\n",
       "</style>\n",
       "<table border=\"1\" class=\"dataframe\">\n",
       "  <thead>\n",
       "    <tr style=\"text-align: right;\">\n",
       "      <th></th>\n",
       "      <th>Id</th>\n",
       "      <th>Name</th>\n",
       "      <th>Artist</th>\n",
       "      <th>Released</th>\n",
       "      <th>RYM Rating</th>\n",
       "      <th>Genres</th>\n",
       "      <th>Descriptors</th>\n",
       "      <th>Language</th>\n",
       "      <th>Track listing</th>\n",
       "      <th>Colorscheme</th>\n",
       "      <th>Languages</th>\n",
       "      <th>Ranked</th>\n",
       "    </tr>\n",
       "  </thead>\n",
       "  <tbody>\n",
       "    <tr>\n",
       "      <th>count</th>\n",
       "      <td>2</td>\n",
       "      <td>2</td>\n",
       "      <td>2</td>\n",
       "      <td>2</td>\n",
       "      <td>1</td>\n",
       "      <td>2</td>\n",
       "      <td>2</td>\n",
       "      <td>0</td>\n",
       "      <td>2</td>\n",
       "      <td>2</td>\n",
       "      <td>0</td>\n",
       "      <td>1</td>\n",
       "    </tr>\n",
       "    <tr>\n",
       "      <th>unique</th>\n",
       "      <td>2</td>\n",
       "      <td>2</td>\n",
       "      <td>2</td>\n",
       "      <td>2</td>\n",
       "      <td>1</td>\n",
       "      <td>2</td>\n",
       "      <td>1</td>\n",
       "      <td>0</td>\n",
       "      <td>2</td>\n",
       "      <td>2</td>\n",
       "      <td>0</td>\n",
       "      <td>1</td>\n",
       "    </tr>\n",
       "    <tr>\n",
       "      <th>top</th>\n",
       "      <td>gokartmozart2018mozart</td>\n",
       "      <td>Mozart</td>\n",
       "      <td>Sky</td>\n",
       "      <td>1987</td>\n",
       "      <td>3.18\\n                  \\n/ 5.00.5\\n\\n        ...</td>\n",
       "      <td>Classical Crossover, Symphonic Prog</td>\n",
       "      <td></td>\n",
       "      <td>NaN</td>\n",
       "      <td>[The Marriage of Figaro: Overture, Eine Kleine...</td>\n",
       "      <td>[#a03b11, #b49986, #8b8b7f, #b37743]</td>\n",
       "      <td>NaN</td>\n",
       "      <td>#1,797 for 1987</td>\n",
       "    </tr>\n",
       "    <tr>\n",
       "      <th>freq</th>\n",
       "      <td>1</td>\n",
       "      <td>1</td>\n",
       "      <td>1</td>\n",
       "      <td>1</td>\n",
       "      <td>1</td>\n",
       "      <td>1</td>\n",
       "      <td>2</td>\n",
       "      <td>NaN</td>\n",
       "      <td>1</td>\n",
       "      <td>1</td>\n",
       "      <td>NaN</td>\n",
       "      <td>1</td>\n",
       "    </tr>\n",
       "  </tbody>\n",
       "</table>\n",
       "</div>"
      ],
      "text/plain": [
       "                            Id    Name Artist Released  \\\n",
       "count                        2       2      2        2   \n",
       "unique                       2       2      2        2   \n",
       "top     gokartmozart2018mozart  Mozart    Sky     1987   \n",
       "freq                         1       1      1        1   \n",
       "\n",
       "                                               RYM Rating  \\\n",
       "count                                                   1   \n",
       "unique                                                  1   \n",
       "top     3.18\\n                  \\n/ 5.00.5\\n\\n        ...   \n",
       "freq                                                    1   \n",
       "\n",
       "                                     Genres Descriptors Language  \\\n",
       "count                                     2           2        0   \n",
       "unique                                    2           1        0   \n",
       "top     Classical Crossover, Symphonic Prog                  NaN   \n",
       "freq                                      1           2      NaN   \n",
       "\n",
       "                                            Track listing  \\\n",
       "count                                                   2   \n",
       "unique                                                  2   \n",
       "top     [The Marriage of Figaro: Overture, Eine Kleine...   \n",
       "freq                                                    1   \n",
       "\n",
       "                                 Colorscheme Languages           Ranked  \n",
       "count                                      2         0                1  \n",
       "unique                                     2         0                1  \n",
       "top     [#a03b11, #b49986, #8b8b7f, #b37743]       NaN  #1,797 for 1987  \n",
       "freq                                       1       NaN                1  "
      ]
     },
     "execution_count": 113,
     "metadata": {},
     "output_type": "execute_result"
    }
   ],
   "source": [
    "xdf = df.reset_index()\n",
    "xdf = df[cols]\n",
    "xdf.reset_index()\n",
    "xdf.describe()"
   ]
  },
  {
   "cell_type": "code",
   "execution_count": 114,
   "metadata": {},
   "outputs": [
    {
     "name": "stderr",
     "output_type": "stream",
     "text": [
      "/opt/homebrew/anaconda3/envs/edav/lib/python3.7/site-packages/ipykernel_launcher.py:1: SettingWithCopyWarning: \n",
      "A value is trying to be set on a copy of a slice from a DataFrame.\n",
      "Try using .loc[row_indexer,col_indexer] = value instead\n",
      "\n",
      "See the caveats in the documentation: https://pandas.pydata.org/pandas-docs/stable/user_guide/indexing.html#returning-a-view-versus-a-copy\n",
      "  \"\"\"Entry point for launching an IPython kernel.\n"
     ]
    }
   ],
   "source": [
    "xdf[\"Language\"] = [xdf.iloc[i][\"Languages\"] if pd.isna(xdf.iloc[i][\"Language\"]) else xdf.iloc[i][\"Language\"] for i in range(len(xdf.index))]"
   ]
  },
  {
   "cell_type": "code",
   "execution_count": 115,
   "metadata": {},
   "outputs": [
    {
     "data": {
      "text/html": [
       "<div>\n",
       "<style scoped>\n",
       "    .dataframe tbody tr th:only-of-type {\n",
       "        vertical-align: middle;\n",
       "    }\n",
       "\n",
       "    .dataframe tbody tr th {\n",
       "        vertical-align: top;\n",
       "    }\n",
       "\n",
       "    .dataframe thead th {\n",
       "        text-align: right;\n",
       "    }\n",
       "</style>\n",
       "<table border=\"1\" class=\"dataframe\">\n",
       "  <thead>\n",
       "    <tr style=\"text-align: right;\">\n",
       "      <th></th>\n",
       "      <th>Language</th>\n",
       "    </tr>\n",
       "  </thead>\n",
       "  <tbody>\n",
       "    <tr>\n",
       "      <th>count</th>\n",
       "      <td>0.0</td>\n",
       "    </tr>\n",
       "    <tr>\n",
       "      <th>mean</th>\n",
       "      <td>NaN</td>\n",
       "    </tr>\n",
       "    <tr>\n",
       "      <th>std</th>\n",
       "      <td>NaN</td>\n",
       "    </tr>\n",
       "    <tr>\n",
       "      <th>min</th>\n",
       "      <td>NaN</td>\n",
       "    </tr>\n",
       "    <tr>\n",
       "      <th>25%</th>\n",
       "      <td>NaN</td>\n",
       "    </tr>\n",
       "    <tr>\n",
       "      <th>50%</th>\n",
       "      <td>NaN</td>\n",
       "    </tr>\n",
       "    <tr>\n",
       "      <th>75%</th>\n",
       "      <td>NaN</td>\n",
       "    </tr>\n",
       "    <tr>\n",
       "      <th>max</th>\n",
       "      <td>NaN</td>\n",
       "    </tr>\n",
       "  </tbody>\n",
       "</table>\n",
       "</div>"
      ],
      "text/plain": [
       "       Language\n",
       "count       0.0\n",
       "mean        NaN\n",
       "std         NaN\n",
       "min         NaN\n",
       "25%         NaN\n",
       "50%         NaN\n",
       "75%         NaN\n",
       "max         NaN"
      ]
     },
     "execution_count": 115,
     "metadata": {},
     "output_type": "execute_result"
    }
   ],
   "source": [
    "xdf = xdf[['Id', 'Name', 'Artist', 'Released', 'RYM Rating', 'Genres', 'Descriptors',\n",
    "       'Language', 'Track listing', 'Colorscheme','Ranked']]\n",
    "xdf.describe()"
   ]
  },
  {
   "cell_type": "code",
   "execution_count": 116,
   "metadata": {},
   "outputs": [],
   "source": [
    "import re\n",
    "ratings = []\n",
    "num_ratings = []\n",
    "for i in xdf[\"RYM Rating\"]:\n",
    "  if isinstance(i, float):\n",
    "    ratings.append(\"\")\n",
    "    num_ratings.append(\"\")\n",
    "  else:\n",
    "    ratings.append(float(i.rsplit('\\n')[0]))\n",
    "    num_ = i.rsplit('\\n')[-1]\n",
    "    num = int(re.findall(r\"\\d*,*\\d+\",num_)[0].replace(\",\",\"\"))\n",
    "    num_ratings.append(num)"
   ]
  },
  {
   "cell_type": "code",
   "execution_count": 117,
   "metadata": {},
   "outputs": [],
   "source": [
    "xdf[\"RYM Rating\"] = ratings\n",
    "xdf[\"Num_of_RYM_Ratings\"] = num_ratings"
   ]
  },
  {
   "cell_type": "code",
   "execution_count": 118,
   "metadata": {},
   "outputs": [
    {
     "data": {
      "text/html": [
       "<div>\n",
       "<style scoped>\n",
       "    .dataframe tbody tr th:only-of-type {\n",
       "        vertical-align: middle;\n",
       "    }\n",
       "\n",
       "    .dataframe tbody tr th {\n",
       "        vertical-align: top;\n",
       "    }\n",
       "\n",
       "    .dataframe thead th {\n",
       "        text-align: right;\n",
       "    }\n",
       "</style>\n",
       "<table border=\"1\" class=\"dataframe\">\n",
       "  <thead>\n",
       "    <tr style=\"text-align: right;\">\n",
       "      <th></th>\n",
       "      <th>Id</th>\n",
       "      <th>Name</th>\n",
       "      <th>Artist</th>\n",
       "      <th>Released</th>\n",
       "      <th>RYM Rating</th>\n",
       "      <th>Genres</th>\n",
       "      <th>Descriptors</th>\n",
       "      <th>Language</th>\n",
       "      <th>Track listing</th>\n",
       "      <th>Colorscheme</th>\n",
       "      <th>Ranked</th>\n",
       "      <th>Num_of_RYM_Ratings</th>\n",
       "    </tr>\n",
       "  </thead>\n",
       "  <tbody>\n",
       "    <tr>\n",
       "      <th>0</th>\n",
       "      <td>gokartmozart2018mozart</td>\n",
       "      <td>Mozart</td>\n",
       "      <td>Sky</td>\n",
       "      <td>1987</td>\n",
       "      <td>3.18</td>\n",
       "      <td>Classical Crossover, Symphonic Prog</td>\n",
       "      <td></td>\n",
       "      <td>NaN</td>\n",
       "      <td>[The Marriage of Figaro: Overture, Eine Kleine...</td>\n",
       "      <td>[#a03b11, #b49986, #8b8b7f, #b37743]</td>\n",
       "      <td>#1,797 for 1987</td>\n",
       "      <td>36</td>\n",
       "    </tr>\n",
       "    <tr>\n",
       "      <th>0</th>\n",
       "      <td>µziq2018chaish</td>\n",
       "      <td>Ziq</td>\n",
       "      <td>Conga Squad</td>\n",
       "      <td>1998</td>\n",
       "      <td></td>\n",
       "      <td>Techno</td>\n",
       "      <td></td>\n",
       "      <td>NaN</td>\n",
       "      <td>[Ziq, Ziq (Original), Droids, Tell me something]</td>\n",
       "      <td>[]</td>\n",
       "      <td>NaN</td>\n",
       "      <td></td>\n",
       "    </tr>\n",
       "  </tbody>\n",
       "</table>\n",
       "</div>"
      ],
      "text/plain": [
       "                       Id    Name       Artist Released RYM Rating  \\\n",
       "0  gokartmozart2018mozart  Mozart          Sky     1987       3.18   \n",
       "0          µziq2018chaish     Ziq  Conga Squad     1998              \n",
       "\n",
       "                                Genres Descriptors  Language  \\\n",
       "0  Classical Crossover, Symphonic Prog                   NaN   \n",
       "0                               Techno                   NaN   \n",
       "\n",
       "                                       Track listing  \\\n",
       "0  [The Marriage of Figaro: Overture, Eine Kleine...   \n",
       "0   [Ziq, Ziq (Original), Droids, Tell me something]   \n",
       "\n",
       "                            Colorscheme           Ranked Num_of_RYM_Ratings  \n",
       "0  [#a03b11, #b49986, #8b8b7f, #b37743]  #1,797 for 1987                 36  \n",
       "0                                    []              NaN                     "
      ]
     },
     "execution_count": 118,
     "metadata": {},
     "output_type": "execute_result"
    }
   ],
   "source": [
    "xdf"
   ]
  },
  {
   "cell_type": "code",
   "execution_count": 119,
   "metadata": {},
   "outputs": [],
   "source": [
    "xdf.to_csv(\"rym_add.csv\")"
   ]
  }
 ],
 "metadata": {
  "kernelspec": {
   "display_name": "edav",
   "language": "python",
   "name": "python3"
  },
  "language_info": {
   "codemirror_mode": {
    "name": "ipython",
    "version": 3
   },
   "file_extension": ".py",
   "mimetype": "text/x-python",
   "name": "python",
   "nbconvert_exporter": "python",
   "pygments_lexer": "ipython3",
   "version": "3.7.15"
  },
  "orig_nbformat": 4,
  "vscode": {
   "interpreter": {
    "hash": "0df9b00d9d230cd9a3bd41555cc6e6dfffa51e74efe856b6a8c4a87056f0c072"
   }
  }
 },
 "nbformat": 4,
 "nbformat_minor": 2
}
